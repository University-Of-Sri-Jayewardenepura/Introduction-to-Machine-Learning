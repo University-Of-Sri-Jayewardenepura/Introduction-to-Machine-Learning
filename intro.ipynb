{
 "cells": [
  {
   "cell_type": "code",
   "execution_count": 1,
   "id": "f5ecc1b3-bd8e-4e9a-9a64-1cb0eeeec81e",
   "metadata": {},
   "outputs": [
    {
     "name": "stdout",
     "output_type": "stream",
     "text": [
      "Hello World!\n"
     ]
    }
   ],
   "source": [
    "print(\"Hello World!\")"
   ]
  },
  {
   "cell_type": "code",
   "execution_count": 2,
   "id": "38fc5b52-72d4-44d6-a737-2d495c77f439",
   "metadata": {},
   "outputs": [
    {
     "name": "stdout",
     "output_type": "stream",
     "text": [
      "Sum: 8\n",
      "Difference: 2\n",
      "Product: 15\n",
      "Quotient: 1.6666666666666667\n"
     ]
    }
   ],
   "source": [
    "# Variable declaration\n",
    "a = 5\n",
    "b = 3\n",
    "# Arithmetic operations\n",
    "sum_result = a + b\n",
    "difference_result = a - b\n",
    "product_result = a * b\n",
    "quotient_result = a / b\n",
    "print(\"Sum:\", sum_result)\n",
    "print(\"Difference:\", difference_result)\n",
    "print(\"Product:\", product_result)\n",
    "print(\"Quotient:\", quotient_result)\n"
   ]
  },
  {
   "cell_type": "code",
   "execution_count": 2,
   "id": "29da1acb-3001-4e84-96dd-cf80310ef9d8",
   "metadata": {},
   "outputs": [
    {
     "name": "stdout",
     "output_type": "stream",
     "text": [
      "Integer Variable: 10\n",
      "Float Variable: 3.14\n",
      "String Variable: Hello\n"
     ]
    }
   ],
   "source": [
    "# Data types\n",
    "integer_var = 10\n",
    "float_var = 3.14\n",
    "string_var = \"Hello\"\n",
    "print(\"Integer Variable:\", integer_var)\n",
    "print(\"Float Variable:\", float_var)\n",
    "print(\"String Variable:\", string_var)"
   ]
  },
  {
   "cell_type": "code",
   "execution_count": 3,
   "id": "43ef1ea0-766f-465d-821b-eb3d7c7185da",
   "metadata": {},
   "outputs": [
    {
     "name": "stdout",
     "output_type": "stream",
     "text": [
      "Sum of Numbers: 45\n",
      "Average of Numbers: 9.0\n",
      "Sorted Numbers: [5, 7, 8, 10, 15]\n"
     ]
    }
   ],
   "source": [
    "# List creation\n",
    "numbers = [10, 5, 8, 15, 7]\n",
    "# List operations\n",
    "sum_of_numbers = sum(numbers)\n",
    "average_of_numbers = sum_of_numbers / len(numbers)\n",
    "sorted_numbers = sorted(numbers)\n",
    "print(\"Sum of Numbers:\", sum_of_numbers)\n",
    "print(\"Average of Numbers:\", average_of_numbers)\n",
    "print(\"Sorted Numbers:\", sorted_numbers)\n"
   ]
  },
  {
   "cell_type": "code",
   "execution_count": 6,
   "id": "8f669c1c-e4f8-4e93-bcc5-e3cd64dab7ba",
   "metadata": {},
   "outputs": [
    {
     "name": "stdout",
     "output_type": "stream",
     "text": [
      "Current Number: 10\n",
      "Current Number: 5\n",
      "Current Number: 8\n",
      "Current Number: 15\n",
      "Current Number: 7\n",
      "Current Number (while loop): 10\n",
      "Current Number (while loop): 5\n",
      "Current Number (while loop): 8\n",
      "Current Number (while loop): 15\n",
      "Current Number (while loop): 7\n"
     ]
    }
   ],
   "source": [
    "# Looping through the list\n",
    "for num in numbers:\n",
    "    print(\"Current Number:\", num)\n",
    "# While loop example\n",
    "i = 0\n",
    "while i < len(numbers):\n",
    "    print(\"Current Number (while loop):\", numbers[i])\n",
    "    i += 1\n"
   ]
  },
  {
   "cell_type": "code",
   "execution_count": 7,
   "id": "9eb4c485-055a-4512-ac91-68d9314150c1",
   "metadata": {
    "collapsed": true,
    "jupyter": {
     "outputs_hidden": true,
     "source_hidden": true
    }
   },
   "outputs": [
    {
     "name": "stdout",
     "output_type": "stream",
     "text": [
      "Collecting pandas\n",
      "  Downloading pandas-2.2.3-cp310-cp310-win_amd64.whl.metadata (19 kB)\n",
      "Collecting numpy>=1.22.4 (from pandas)\n",
      "  Downloading numpy-2.1.3-cp310-cp310-win_amd64.whl.metadata (60 kB)\n",
      "Requirement already satisfied: python-dateutil>=2.8.2 in c:\\users\\ict-laptop\\appdata\\local\\programs\\python\\python310\\lib\\site-packages (from pandas) (2.9.0.post0)\n",
      "Collecting pytz>=2020.1 (from pandas)\n",
      "  Downloading pytz-2024.2-py2.py3-none-any.whl.metadata (22 kB)\n",
      "Collecting tzdata>=2022.7 (from pandas)\n",
      "  Downloading tzdata-2024.2-py2.py3-none-any.whl.metadata (1.4 kB)\n",
      "Requirement already satisfied: six>=1.5 in c:\\users\\ict-laptop\\appdata\\local\\programs\\python\\python310\\lib\\site-packages (from python-dateutil>=2.8.2->pandas) (1.16.0)\n",
      "Downloading pandas-2.2.3-cp310-cp310-win_amd64.whl (11.6 MB)\n",
      "   ---------------------------------------- 0.0/11.6 MB ? eta -:--:--\n",
      "   ---------------------------------------- 0.0/11.6 MB ? eta -:--:--\n",
      "    --------------------------------------- 0.3/11.6 MB ? eta -:--:--\n",
      "   - -------------------------------------- 0.5/11.6 MB 1.3 MB/s eta 0:00:09\n",
      "   --- ------------------------------------ 1.0/11.6 MB 1.3 MB/s eta 0:00:09\n",
      "   ---- ----------------------------------- 1.3/11.6 MB 1.4 MB/s eta 0:00:08\n",
      "   ------ --------------------------------- 1.8/11.6 MB 1.5 MB/s eta 0:00:07\n",
      "   ------- -------------------------------- 2.1/11.6 MB 1.6 MB/s eta 0:00:07\n",
      "   --------- ------------------------------ 2.6/11.6 MB 1.7 MB/s eta 0:00:06\n",
      "   ---------- ----------------------------- 3.1/11.6 MB 1.7 MB/s eta 0:00:05\n",
      "   ------------ --------------------------- 3.7/11.6 MB 1.8 MB/s eta 0:00:05\n",
      "   ------------- -------------------------- 3.9/11.6 MB 1.7 MB/s eta 0:00:05\n",
      "   -------------- ------------------------- 4.2/11.6 MB 1.7 MB/s eta 0:00:05\n",
      "   ---------------- ----------------------- 4.7/11.6 MB 1.8 MB/s eta 0:00:04\n",
      "   ------------------ --------------------- 5.5/11.6 MB 1.9 MB/s eta 0:00:04\n",
      "   ------------------- -------------------- 5.8/11.6 MB 2.0 MB/s eta 0:00:03\n",
      "   --------------------- ------------------ 6.3/11.6 MB 1.9 MB/s eta 0:00:03\n",
      "   --------------------- ------------------ 6.3/11.6 MB 1.9 MB/s eta 0:00:03\n",
      "   ---------------------- ----------------- 6.6/11.6 MB 1.8 MB/s eta 0:00:03\n",
      "   ------------------------- -------------- 7.3/11.6 MB 1.8 MB/s eta 0:00:03\n",
      "   --------------------------- ------------ 7.9/11.6 MB 1.9 MB/s eta 0:00:02\n",
      "   ---------------------------- ----------- 8.4/11.6 MB 1.9 MB/s eta 0:00:02\n",
      "   ----------------------------- ---------- 8.7/11.6 MB 1.9 MB/s eta 0:00:02\n",
      "   ------------------------------- -------- 9.2/11.6 MB 1.9 MB/s eta 0:00:02\n",
      "   --------------------------------- ------ 9.7/11.6 MB 1.9 MB/s eta 0:00:01\n",
      "   ----------------------------------- ---- 10.2/11.6 MB 2.0 MB/s eta 0:00:01\n",
      "   ------------------------------------- -- 10.7/11.6 MB 2.0 MB/s eta 0:00:01\n",
      "   -------------------------------------- - 11.3/11.6 MB 2.0 MB/s eta 0:00:01\n",
      "   ---------------------------------------  11.5/11.6 MB 2.0 MB/s eta 0:00:01\n",
      "   ---------------------------------------- 11.6/11.6 MB 2.0 MB/s eta 0:00:00\n",
      "Downloading numpy-2.1.3-cp310-cp310-win_amd64.whl (12.9 MB)\n",
      "   ---------------------------------------- 0.0/12.9 MB ? eta -:--:--\n",
      "    --------------------------------------- 0.3/12.9 MB ? eta -:--:--\n",
      "   --- ------------------------------------ 1.0/12.9 MB 3.0 MB/s eta 0:00:04\n",
      "   ----- ---------------------------------- 1.8/12.9 MB 3.0 MB/s eta 0:00:04\n",
      "   -------- ------------------------------- 2.6/12.9 MB 3.2 MB/s eta 0:00:04\n",
      "   --------- ------------------------------ 3.1/12.9 MB 3.0 MB/s eta 0:00:04\n",
      "   ----------- ---------------------------- 3.7/12.9 MB 3.0 MB/s eta 0:00:04\n",
      "   ------------ --------------------------- 3.9/12.9 MB 2.9 MB/s eta 0:00:04\n",
      "   ------------ --------------------------- 3.9/12.9 MB 2.9 MB/s eta 0:00:04\n",
      "   ------------- -------------------------- 4.2/12.9 MB 2.2 MB/s eta 0:00:04\n",
      "   ------------- -------------------------- 4.5/12.9 MB 2.2 MB/s eta 0:00:04\n",
      "   --------------- ------------------------ 5.0/12.9 MB 2.1 MB/s eta 0:00:04\n",
      "   ---------------- ----------------------- 5.2/12.9 MB 2.1 MB/s eta 0:00:04\n",
      "   ----------------- ---------------------- 5.5/12.9 MB 2.0 MB/s eta 0:00:04\n",
      "   ----------------- ---------------------- 5.8/12.9 MB 1.9 MB/s eta 0:00:04\n",
      "   ------------------ --------------------- 6.0/12.9 MB 1.9 MB/s eta 0:00:04\n",
      "   ------------------- -------------------- 6.3/12.9 MB 1.9 MB/s eta 0:00:04\n",
      "   -------------------- ------------------- 6.6/12.9 MB 1.8 MB/s eta 0:00:04\n",
      "   --------------------- ------------------ 6.8/12.9 MB 1.8 MB/s eta 0:00:04\n",
      "   ---------------------- ----------------- 7.3/12.9 MB 1.8 MB/s eta 0:00:04\n",
      "   ------------------------ --------------- 7.9/12.9 MB 1.8 MB/s eta 0:00:03\n",
      "   ------------------------- -------------- 8.1/12.9 MB 1.8 MB/s eta 0:00:03\n",
      "   -------------------------- ------------- 8.4/12.9 MB 1.8 MB/s eta 0:00:03\n",
      "   -------------------------- ------------- 8.7/12.9 MB 1.8 MB/s eta 0:00:03\n",
      "   --------------------------- ------------ 8.9/12.9 MB 1.7 MB/s eta 0:00:03\n",
      "   ---------------------------- ----------- 9.2/12.9 MB 1.7 MB/s eta 0:00:03\n",
      "   ------------------------------ --------- 9.7/12.9 MB 1.7 MB/s eta 0:00:02\n",
      "   ------------------------------- -------- 10.2/12.9 MB 1.7 MB/s eta 0:00:02\n",
      "   -------------------------------- ------- 10.5/12.9 MB 1.8 MB/s eta 0:00:02\n",
      "   ---------------------------------- ----- 11.0/12.9 MB 1.8 MB/s eta 0:00:02\n",
      "   ----------------------------------- ---- 11.3/12.9 MB 1.7 MB/s eta 0:00:01\n",
      "   ----------------------------------- ---- 11.5/12.9 MB 1.7 MB/s eta 0:00:01\n",
      "   ------------------------------------- -- 12.1/12.9 MB 1.7 MB/s eta 0:00:01\n",
      "   -------------------------------------- - 12.3/12.9 MB 1.8 MB/s eta 0:00:01\n",
      "   ---------------------------------------  12.8/12.9 MB 1.8 MB/s eta 0:00:01\n",
      "   ---------------------------------------  12.8/12.9 MB 1.8 MB/s eta 0:00:01\n",
      "   ---------------------------------------- 12.9/12.9 MB 1.7 MB/s eta 0:00:00\n",
      "Downloading pytz-2024.2-py2.py3-none-any.whl (508 kB)\n",
      "Downloading tzdata-2024.2-py2.py3-none-any.whl (346 kB)\n",
      "Installing collected packages: pytz, tzdata, numpy, pandas\n",
      "Successfully installed numpy-2.1.3 pandas-2.2.3 pytz-2024.2 tzdata-2024.2\n",
      "Note: you may need to restart the kernel to use updated packages.\n"
     ]
    }
   ],
   "source": [
    "pip install pandas"
   ]
  },
  {
   "cell_type": "code",
   "execution_count": 8,
   "id": "e293c02c-5758-493d-8c95-b48959d0df1e",
   "metadata": {},
   "outputs": [
    {
     "name": "stdout",
     "output_type": "stream",
     "text": [
      "      Name  Age           City\n",
      "0    Alice   25       New York\n",
      "1      Bob   30  San Francisco\n",
      "2  Charlie   22    Los Angeles\n"
     ]
    }
   ],
   "source": [
    "import pandas as pd\n",
    "# Creating a DataFrame\n",
    "data = {'Name': ['Alice', 'Bob', 'Charlie'],\n",
    "'Age': [25, 30, 22],\n",
    "'City': ['New York', 'San Francisco', 'Los Angeles']}\n",
    "df = pd.DataFrame(data)\n",
    "print(df)"
   ]
  },
  {
   "cell_type": "code",
   "execution_count": 9,
   "id": "ce1ca291-87b7-4c83-85e7-e419125310ae",
   "metadata": {},
   "outputs": [
    {
     "name": "stdout",
     "output_type": "stream",
     "text": [
      "Names: 0      Alice\n",
      "1        Bob\n",
      "2    Charlie\n",
      "Name: Name, dtype: object\n",
      "Ages: 0    25\n",
      "1    30\n",
      "2    22\n",
      "Name: Age, dtype: int64\n",
      "Modified DataFrame:\n",
      "      Name  Age           City  Gender\n",
      "0    Alice   25       New York  Female\n",
      "1      Bob   30  San Francisco    Male\n",
      "2  Charlie   22    Los Angeles    Male\n"
     ]
    }
   ],
   "source": [
    "# Accessing columns\n",
    "names = df['Name']\n",
    "ages = df['Age']\n",
    "# Adding a new column\n",
    "df['Gender'] = ['Female', 'Male', 'Male']\n",
    "print(\"Names:\", names)\n",
    "print(\"Ages:\", ages)\n",
    "print(\"Modified DataFrame:\")\n",
    "print(df)"
   ]
  },
  {
   "cell_type": "code",
   "execution_count": 12,
   "id": "c23901d4-7a66-425c-b60d-fd8e9a74e715",
   "metadata": {},
   "outputs": [],
   "source": [
    "# Creating a text file with sample data\n",
    "with open('data.txt', 'w') as file:\n",
    "    file.write(\"This is sample data.\\nLine 2: More data.\")"
   ]
  },
  {
   "cell_type": "code",
   "execution_count": 15,
   "id": "f7a3367f-6067-4a21-b89e-736ba5787b7d",
   "metadata": {},
   "outputs": [
    {
     "name": "stdout",
     "output_type": "stream",
     "text": [
      "File Contents:\n",
      "This is sample data.\n",
      "Line 2: More data.\n"
     ]
    }
   ],
   "source": [
    "# Reading and printing contents of the file\n",
    "with open('data.txt', 'r') as file:\n",
    "    file_contents = file.read()\n",
    "print(\"File Contents:\")\n",
    "print(file_contents)"
   ]
  },
  {
   "cell_type": "code",
   "execution_count": 3,
   "id": "cdbf782a-8ea0-4d37-bb85-459551025bab",
   "metadata": {},
   "outputs": [],
   "source": [
    "# Reading CSV file into DataFrame\n",
    "df_csv = pd.read_csv(r'C:\\Users\\ICT-LAPTOP\\Downloads\\sample_dataset.csv')"
   ]
  },
  {
   "cell_type": "code",
   "execution_count": 4,
   "id": "99122c2e-fbdf-4aaf-896b-9eed3d8350b1",
   "metadata": {},
   "outputs": [
    {
     "name": "stdout",
     "output_type": "stream",
     "text": [
      "DataFrame Head:\n",
      "   Index  Organization Id                     Name  \\\n",
      "0      1  FAB0d41d5b5d22c              Ferrell LLC   \n",
      "1      2  6A7EdDEA9FaDC52  Mckinney, Riley and Day   \n",
      "2      3  0bFED1ADAE4bcC1               Hester Ltd   \n",
      "3      4  2bFC1Be8a4ce42f           Holder-Sellers   \n",
      "4      5  9eE8A6a4Eb96C24              Mayer Group   \n",
      "\n",
      "                          Website           Country  \\\n",
      "0              https://price.net/  Papua New Guinea   \n",
      "1  http://www.hall-buchanan.info/           Finland   \n",
      "2       http://sullivan-reed.com/             China   \n",
      "3             https://becker.com/      Turkmenistan   \n",
      "4          http://www.brewer.com/         Mauritius   \n",
      "\n",
      "                                      Description  Founded  \\\n",
      "0             Horizontal empowering knowledgebase     1990   \n",
      "1             User-centric system-worthy leverage     2015   \n",
      "2                  Switchable scalable moratorium     1971   \n",
      "3  De-engineered systemic artificial intelligence     2004   \n",
      "4              Synchronized needs-based challenge     1991   \n",
      "\n",
      "                      Industry  Number of employees  \n",
      "0                     Plastics                 3498  \n",
      "1  Glass / Ceramics / Concrete                 4952  \n",
      "2                Public Safety                 5287  \n",
      "3                   Automotive                  921  \n",
      "4               Transportation                 7870  \n",
      "DataFrame Tail:\n",
      "    Index  Organization Id               Name                  Website  \\\n",
      "95     96  0a0bfFbBbB8eC7c       Holmes Group    https://mcdowell.org/   \n",
      "96     97  BA6Cd9Dae2Efd62           Good Ltd        http://duffy.com/   \n",
      "97     98  E7df80C60Abd7f9  Clements-Espinoza  http://www.flowers.net/   \n",
      "98     99  AFc285dbE2fEd24         Mendez Inc   https://www.burke.net/   \n",
      "99    100  e9eB5A60Cef8354     Watkins-Kaiser  http://www.herring.com/   \n",
      "\n",
      "                        Country                              Description  \\\n",
      "95                     Ethiopia   Right-sized zero tolerance focus group   \n",
      "96                     Anguilla  Reverse-engineered composite moratorium   \n",
      "97  Falkland Islands (Malvinas)                  Progressive modular hub   \n",
      "98              Kyrgyz Republic          User-friendly exuding migration   \n",
      "99                         Togo            Synergistic background access   \n",
      "\n",
      "    Founded              Industry  Number of employees  \n",
      "95     1975           Photography                 2988  \n",
      "96     1971     Consumer Services                 4292  \n",
      "97     1991       Broadcast Media                  236  \n",
      "98     1993  Education Management                  339  \n",
      "99     2009    Financial Services                 2785  \n",
      "DataFrame Descriptive Statistics:\n",
      "            Index      Founded  Number of employees\n",
      "count  100.000000   100.000000           100.000000\n",
      "mean    50.500000  1995.410000          4964.860000\n",
      "std     29.011492    15.744228          2850.859799\n",
      "min      1.000000  1970.000000           236.000000\n",
      "25%     25.750000  1983.500000          2741.250000\n",
      "50%     50.500000  1995.000000          4941.500000\n",
      "75%     75.250000  2010.250000          7558.000000\n",
      "max    100.000000  2021.000000          9995.000000\n"
     ]
    }
   ],
   "source": [
    "# Displaying DataFrame head, tail, and descriptive statistics\n",
    "print(\"DataFrame Head:\")\n",
    "print(df_csv.head())\n",
    "print(\"DataFrame Tail:\")\n",
    "print(df_csv.tail())\n",
    "print(\"DataFrame Descriptive Statistics:\")\n",
    "print(df_csv.describe())"
   ]
  },
  {
   "cell_type": "code",
   "execution_count": 5,
   "id": "e0a359f7-61b7-403d-b2b5-5962ac0f9a06",
   "metadata": {
    "collapsed": true,
    "jupyter": {
     "outputs_hidden": true
    },
    "scrolled": true
   },
   "outputs": [
    {
     "name": "stdout",
     "output_type": "stream",
     "text": [
      "Collecting matplotlib\n",
      "  Downloading matplotlib-3.9.2-cp310-cp310-win_amd64.whl.metadata (11 kB)\n",
      "Collecting contourpy>=1.0.1 (from matplotlib)\n",
      "  Downloading contourpy-1.3.0-cp310-cp310-win_amd64.whl.metadata (5.4 kB)\n",
      "Collecting cycler>=0.10 (from matplotlib)\n",
      "  Downloading cycler-0.12.1-py3-none-any.whl.metadata (3.8 kB)\n",
      "Collecting fonttools>=4.22.0 (from matplotlib)\n",
      "  Downloading fonttools-4.54.1-cp310-cp310-win_amd64.whl.metadata (167 kB)\n",
      "Collecting kiwisolver>=1.3.1 (from matplotlib)\n",
      "  Downloading kiwisolver-1.4.7-cp310-cp310-win_amd64.whl.metadata (6.4 kB)\n",
      "Requirement already satisfied: numpy>=1.23 in c:\\users\\ict-laptop\\appdata\\local\\programs\\python\\python310\\lib\\site-packages (from matplotlib) (2.1.3)\n",
      "Requirement already satisfied: packaging>=20.0 in c:\\users\\ict-laptop\\appdata\\local\\programs\\python\\python310\\lib\\site-packages (from matplotlib) (24.1)\n",
      "Collecting pillow>=8 (from matplotlib)\n",
      "  Downloading pillow-11.0.0-cp310-cp310-win_amd64.whl.metadata (9.3 kB)\n",
      "Collecting pyparsing>=2.3.1 (from matplotlib)\n",
      "  Downloading pyparsing-3.2.0-py3-none-any.whl.metadata (5.0 kB)\n",
      "Requirement already satisfied: python-dateutil>=2.7 in c:\\users\\ict-laptop\\appdata\\local\\programs\\python\\python310\\lib\\site-packages (from matplotlib) (2.9.0.post0)\n",
      "Requirement already satisfied: six>=1.5 in c:\\users\\ict-laptop\\appdata\\local\\programs\\python\\python310\\lib\\site-packages (from python-dateutil>=2.7->matplotlib) (1.16.0)\n",
      "Downloading matplotlib-3.9.2-cp310-cp310-win_amd64.whl (7.8 MB)\n",
      "   ---------------------------------------- 0.0/7.8 MB ? eta -:--:--\n",
      "   ---------------------------------------- 0.0/7.8 MB ? eta -:--:--\n",
      "   ---------------------------------------- 0.0/7.8 MB ? eta -:--:--\n",
      "   - -------------------------------------- 0.3/7.8 MB ? eta -:--:--\n",
      "   - -------------------------------------- 0.3/7.8 MB ? eta -:--:--\n",
      "   -- ------------------------------------- 0.5/7.8 MB 840.2 kB/s eta 0:00:09\n",
      "   ---- ----------------------------------- 0.8/7.8 MB 907.1 kB/s eta 0:00:08\n",
      "   ------ --------------------------------- 1.3/7.8 MB 1.1 MB/s eta 0:00:06\n",
      "   -------- ------------------------------- 1.6/7.8 MB 1.2 MB/s eta 0:00:06\n",
      "   --------- ------------------------------ 1.8/7.8 MB 1.3 MB/s eta 0:00:05\n",
      "   ---------- ----------------------------- 2.1/7.8 MB 1.2 MB/s eta 0:00:05\n",
      "   ------------ --------------------------- 2.4/7.8 MB 1.2 MB/s eta 0:00:05\n",
      "   ------------- -------------------------- 2.6/7.8 MB 1.2 MB/s eta 0:00:05\n",
      "   ------------- -------------------------- 2.6/7.8 MB 1.2 MB/s eta 0:00:05\n",
      "   -------------- ------------------------- 2.9/7.8 MB 1.1 MB/s eta 0:00:05\n",
      "   -------------- ------------------------- 2.9/7.8 MB 1.1 MB/s eta 0:00:05\n",
      "   ---------------- ----------------------- 3.1/7.8 MB 1.0 MB/s eta 0:00:05\n",
      "   ---------------- ----------------------- 3.1/7.8 MB 1.0 MB/s eta 0:00:05\n",
      "   ----------------- ---------------------- 3.4/7.8 MB 967.9 kB/s eta 0:00:05\n",
      "   ------------------ --------------------- 3.7/7.8 MB 1.0 MB/s eta 0:00:05\n",
      "   --------------------- ------------------ 4.2/7.8 MB 1.0 MB/s eta 0:00:04\n",
      "   ---------------------- ----------------- 4.5/7.8 MB 1.1 MB/s eta 0:00:04\n",
      "   ------------------------ --------------- 4.7/7.8 MB 1.1 MB/s eta 0:00:03\n",
      "   -------------------------- ------------- 5.2/7.8 MB 1.1 MB/s eta 0:00:03\n",
      "   ---------------------------- ----------- 5.5/7.8 MB 1.2 MB/s eta 0:00:03\n",
      "   ----------------------------- ---------- 5.8/7.8 MB 1.1 MB/s eta 0:00:02\n",
      "   -------------------------------- ------- 6.3/7.8 MB 1.2 MB/s eta 0:00:02\n",
      "   --------------------------------- ------ 6.6/7.8 MB 1.2 MB/s eta 0:00:02\n",
      "   ---------------------------------- ----- 6.8/7.8 MB 1.2 MB/s eta 0:00:01\n",
      "   ------------------------------------ --- 7.1/7.8 MB 1.2 MB/s eta 0:00:01\n",
      "   -------------------------------------- - 7.6/7.8 MB 1.2 MB/s eta 0:00:01\n",
      "   -------------------------------------- - 7.6/7.8 MB 1.2 MB/s eta 0:00:01\n",
      "   ---------------------------------------- 7.8/7.8 MB 1.2 MB/s eta 0:00:00\n",
      "Downloading contourpy-1.3.0-cp310-cp310-win_amd64.whl (216 kB)\n",
      "Downloading cycler-0.12.1-py3-none-any.whl (8.3 kB)\n",
      "Downloading fonttools-4.54.1-cp310-cp310-win_amd64.whl (2.2 MB)\n",
      "   ---------------------------------------- 0.0/2.2 MB ? eta -:--:--\n",
      "   ---- ----------------------------------- 0.3/2.2 MB ? eta -:--:--\n",
      "   ------------------ --------------------- 1.0/2.2 MB 3.1 MB/s eta 0:00:01\n",
      "   --------------------------------- ------ 1.8/2.2 MB 3.1 MB/s eta 0:00:01\n",
      "   ------------------------------------- -- 2.1/2.2 MB 2.7 MB/s eta 0:00:01\n",
      "   ---------------------------------------- 2.2/2.2 MB 2.3 MB/s eta 0:00:00\n",
      "Downloading kiwisolver-1.4.7-cp310-cp310-win_amd64.whl (55 kB)\n",
      "Downloading pillow-11.0.0-cp310-cp310-win_amd64.whl (2.6 MB)\n",
      "   ---------------------------------------- 0.0/2.6 MB ? eta -:--:--\n",
      "   ---- ----------------------------------- 0.3/2.6 MB ? eta -:--:--\n",
      "   ------------ --------------------------- 0.8/2.6 MB 2.0 MB/s eta 0:00:01\n",
      "   ------------------------ --------------- 1.6/2.6 MB 2.5 MB/s eta 0:00:01\n",
      "   ---------------------------- ----------- 1.8/2.6 MB 2.5 MB/s eta 0:00:01\n",
      "   ------------------------------------ --- 2.4/2.6 MB 2.3 MB/s eta 0:00:01\n",
      "   ------------------------------------ --- 2.4/2.6 MB 2.3 MB/s eta 0:00:01\n",
      "   ---------------------------------------- 2.6/2.6 MB 1.8 MB/s eta 0:00:00\n",
      "Downloading pyparsing-3.2.0-py3-none-any.whl (106 kB)\n",
      "Installing collected packages: pyparsing, pillow, kiwisolver, fonttools, cycler, contourpy, matplotlib\n",
      "Successfully installed contourpy-1.3.0 cycler-0.12.1 fonttools-4.54.1 kiwisolver-1.4.7 matplotlib-3.9.2 pillow-11.0.0 pyparsing-3.2.0\n",
      "Note: you may need to restart the kernel to use updated packages.\n"
     ]
    }
   ],
   "source": [
    "pip install matplotlib"
   ]
  },
  {
   "cell_type": "code",
   "execution_count": 6,
   "id": "0e4deb5d-247a-4e9b-92b8-19379f26b164",
   "metadata": {},
   "outputs": [
    {
     "name": "stderr",
     "output_type": "stream",
     "text": [
      "Matplotlib is building the font cache; this may take a moment.\n"
     ]
    },
    {
     "data": {
      "image/png": "[encoded data removed]",
      "text/plain": [
       "<Figure size 640x480 with 1 Axes>"
      ]
     },
     "metadata": {},
     "output_type": "display_data"
    }
   ],
   "source": [
    "import matplotlib.pyplot as plt\n",
    "# Plotting a simple graph\n",
    "x = [1, 2, 3, 4, 5]\n",
    "y = [10, 5, 8, 15, 7]\n",
    "plt.plot(x, y)\n",
    "plt.xlabel('X-axis')\n",
    "plt.ylabel('Y-axis')\n",
    "plt.title('Simple Plot')\n",
    "plt.show()"
   ]
  },
  {
   "cell_type": "code",
   "execution_count": null,
   "id": "07664d2a-387b-40ee-8f50-cc0c4716fb5a",
   "metadata": {},
   "outputs": [],
   "source": []
  },
  {
   "cell_type": "code",
   "execution_count": null,
   "id": "e7de9822-5c35-4bb9-a80d-f3ba24ba18ba",
   "metadata": {},
   "outputs": [],
   "source": []
  }
 ],
 "metadata": {
  "kernelspec": {
   "display_name": "Python 3 (ipykernel)",
   "language": "python",
   "name": "python3"
  },
  "language_info": {
   "codemirror_mode": {
    "name": "ipython",
    "version": 3
   },
   "file_extension": ".py",
   "mimetype": "text/x-python",
   "name": "python",
   "nbconvert_exporter": "python",
   "pygments_lexer": "ipython3",
   "version": "3.10.1"
  }
 },
 "nbformat": 4,
 "nbformat_minor": 5
}
