{
 "cells": [
  {
   "cell_type": "code",
   "execution_count": null,
   "id": "0fef9abf",
   "metadata": {},
   "outputs": [],
   "source": [
    "import numpy as np\n",
    "import pandas as pd \n",
    "import seaborn as sns\n",
    "\n",
    "import os\n",
    "for dirname, _, filenames in os.walk('/kaggle/input/iris-data'):\n",
    "\n",
    "print(os.listdir())"
   ]
  },
  {
   "cell_type": "code",
   "execution_count": null,
   "id": "b59f288a",
   "metadata": {},
   "outputs": [],
   "source": [
    "df = pd.read_csv(\"data/Iris for cleaning.csv\")\n",
    "df"
   ]
  },
  {
   "cell_type": "code",
   "execution_count": null,
   "id": "a93d871e",
   "metadata": {},
   "outputs": [],
   "source": [
    " df.isnull().sum()"
   ]
  },
  {
   "cell_type": "markdown",
   "id": "dd893d49",
   "metadata": {},
   "source": [
    "```np.nan``` is used to replace null (\"N/A\" and \"na\") values with *NaN* that those columns get cleaned so we can find the real sum of null values"
   ]
  },
  {
   "cell_type": "code",
   "execution_count": null,
   "id": "9c90958a",
   "metadata": {},
   "outputs": [],
   "source": [
    "missing_value = [\"N/A\",\"na\",np.nan]\n",
    "df = pd.read_csv(\"data/Iris for cleaning.csv\", na_values=missing_value)\n",
    "df"
   ]
  },
  {
   "cell_type": "code",
   "execution_count": null,
   "id": "35580e56",
   "metadata": {},
   "outputs": [],
   "source": [
    " df.isnull().sum()"
   ]
  },
  {
   "cell_type": "code",
   "execution_count": null,
   "id": "cf3f96e6",
   "metadata": {},
   "outputs": [],
   "source": [
    " sns.heatmap(df.isnull(),yticklabels=False, annot=True)"
   ]
  },
  {
   "cell_type": "markdown",
   "id": "fdbaba2a",
   "metadata": {},
   "source": [
    "Here we get a heatmap of missing values"
   ]
  },
  {
   "cell_type": "markdown",
   "id": "31519432",
   "metadata": {},
   "source": [
    "## 1 Removing Null values"
   ]
  },
  {
   "cell_type": "code",
   "execution_count": null,
   "id": "8c626cf4",
   "metadata": {},
   "outputs": [],
   "source": [
    "df_nulldropped = df.dropna(how = \"all\")\n",
    "df_nulldropped"
   ]
  },
  {
   "cell_type": "markdown",
   "id": "a2e47b17",
   "metadata": {},
   "source": [
    "Let's replace them with 0 s"
   ]
  },
  {
   "cell_type": "code",
   "execution_count": null,
   "id": "d58a1881",
   "metadata": {},
   "outputs": [],
   "source": [
    "df_fillwithzero = df.fillna(0)\n",
    "df_fillwithzero"
   ]
  },
  {
   "cell_type": "markdown",
   "id": "03f7618e",
   "metadata": {},
   "source": [
    "### Foward Fill\n",
    "\n",
    "In foward fill we replace all the null values with the value above it"
   ]
  },
  {
   "cell_type": "code",
   "execution_count": null,
   "id": "74d30943",
   "metadata": {},
   "outputs": [],
   "source": [
    "df_forwardfilled = df.fillna(method = 'ffill')\n",
    "df_forwardfilled"
   ]
  },
  {
   "cell_type": "markdown",
   "id": "963487db",
   "metadata": {},
   "source": [
    "### Backward Fill\n",
    "\n",
    "In backward fill we replace all the null values with the value below it"
   ]
  },
  {
   "cell_type": "code",
   "execution_count": null,
   "id": "192fd58e",
   "metadata": {},
   "outputs": [],
   "source": [
    "df_backwardfilled = df.fillna(method = 'bfill')\n",
    "df_backwardfilled"
   ]
  },
  {
   "cell_type": "markdown",
   "id": "a16381d9",
   "metadata": {},
   "source": [
    "### Interpolate\n",
    "\n",
    "in this the function estimates the value of a function at points where the value is not known."
   ]
  },
  {
   "cell_type": "code",
   "execution_count": null,
   "id": "77b2bcfc",
   "metadata": {},
   "outputs": [],
   "source": [
    "df_interpolate = df_nulldropped.interpolate()\n",
    "df_interpolate"
   ]
  },
  {
   "cell_type": "markdown",
   "id": "d63c8e45",
   "metadata": {},
   "source": [
    "# Summary\n",
    "\n",
    "Cleaning a dataset using `numpy`, `pandas`, and `seaborn` to replace null values, forward fill, backward fill, and interpolate.\n",
    "ss\n",
    "\n",
    "#### 1. Import the necessary libraries\n",
    "Start by importing the necessary libraries:\n",
    "\n",
    "```python\n",
    "import numpy as np\n",
    "import pandas as pd\n",
    "import seaborn as sns\n",
    "import matplotlib.pyplot as plt\n",
    "```\n",
    "\n",
    "#### 2. Load your dataset\n",
    "For this example, let's create a sample dataset with some null values:\n",
    "\n",
    "```python\n",
    "data = {\n",
    "    'A': [1, 2, np.nan, 4, 5],\n",
    "    'B': [5, np.nan, np.nan, 8, 10],\n",
    "    'C': [1, 3, 5, 7, np.nan]\n",
    "}\n",
    "\n",
    "df = pd.DataFrame(data)\n",
    "print(\"Original DataFrame:\")\n",
    "print(df)\n",
    "```\n",
    "\n",
    "#### 3. Visualize missing data\n",
    "Use `seaborn` to visualize the missing data:\n",
    "\n",
    "```python\n",
    "sns.heatmap(df.isnull(), cbar=False, cmap='viridis')\n",
    "plt.show()\n",
    "```\n",
    "\n",
    "#### 4. Replace null values with a specified value\n",
    "You can replace null values with a specified value using the `fillna` method:\n",
    "\n",
    "```python\n",
    "# Replace null values with 0\n",
    "df_filled = df.fillna(0)\n",
    "print(\"\\nDataFrame with null values replaced by 0:\")\n",
    "print(df_filled)\n",
    "```\n",
    "\n",
    "#### 5. Forward fill (propagate last valid observation forward to next valid)\n",
    "Use the `ffill` method to perform forward fill:\n",
    "\n",
    "```python\n",
    "df_ffill = df.ffill()\n",
    "print(\"\\nDataFrame after forward fill:\")\n",
    "print(df_ffill)\n",
    "```\n",
    "\n",
    "#### 6. Backward fill (use next valid observation to fill gap)\n",
    "Use the `bfill` method to perform backward fill:\n",
    "\n",
    "```python\n",
    "df_bfill = df.bfill()\n",
    "print(\"\\nDataFrame after backward fill:\")\n",
    "print(df_bfill)\n",
    "```\n",
    "\n",
    "#### 7. Interpolate missing values\n",
    "Use the `interpolate` method to estimate missing values based on interpolation:\n",
    "\n",
    "```python\n",
    "df_interpolated = df.interpolate(method='linear')\n",
    "print(\"\\nDataFrame after interpolation:\")\n",
    "print(df_interpolated)\n",
    "```\n",
    "\n",
    "#### 8. Visualize the cleaned data\n",
    "You can visualize the cleaned data to see the effect of filling methods:\n",
    "\n",
    "```python\n",
    "# Visualize after forward fill\n",
    "sns.heatmap(df_ffill.isnull(), cbar=False, cmap='viridis')\n",
    "plt.title('After Forward Fill')\n",
    "plt.show()\n",
    "\n",
    "# Visualize after backward fill\n",
    "sns.heatmap(df_bfill.isnull(), cbar=False, cmap='viridis')\n",
    "plt.title('After Backward Fill')\n",
    "plt.show()\n",
    "\n",
    "# Visualize after interpolation\n",
    "sns.heatmap(df_interpolated.isnull(), cbar=False, cmap='viridis')\n",
    "plt.title('After Interpolation')\n",
    "plt.show()\n",
    "```\n",
    "\n",
    "This should give you a good foundation for cleaning your dataset using `numpy`, `pandas`, and `seaborn`. Feel free to tweak the code to better suit your specific needs! If you have any further questions or need more details, just let me know!"
   ]
  }
 ],
 "metadata": {
  "language_info": {
   "name": "python"
  }
 },
 "nbformat": 4,
 "nbformat_minor": 5
}
