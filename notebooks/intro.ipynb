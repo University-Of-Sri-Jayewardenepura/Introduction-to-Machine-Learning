{
 "cells": [
  {
   "cell_type": "code",
   "execution_count": null,
   "id": "304c10a6",
   "metadata": {},
   "outputs": [],
   "source": [
    "print(\"Hello World!\")"
   ]
  },
  {
   "cell_type": "code",
   "execution_count": null,
   "id": "edcf08fa",
   "metadata": {},
   "outputs": [],
   "source": [
    "# Variable declaration\n",
    "a = 5\n",
    "b = 3\n",
    "# Arithmetic operations\n",
    "sum_result = a + b\n",
    "difference_result = a - b\n",
    "product_result = a * b\n",
    "quotient_result = a / b\n",
    "print(\"Sum:\", sum_result)\n",
    "print(\"Difference:\", difference_result)\n",
    "print(\"Product:\", product_result)\n",
    "print(\"Quotient:\", quotient_result)\n"
   ]
  },
  {
   "cell_type": "code",
   "execution_count": null,
   "id": "bcd1474c",
   "metadata": {},
   "outputs": [],
   "source": [
    "# Data types\n",
    "integer_var = 10\n",
    "float_var = 3.14\n",
    "string_var = \"Hello\"\n",
    "print(\"Integer Variable:\", integer_var)\n",
    "print(\"Float Variable:\", float_var)\n",
    "print(\"String Variable:\", string_var)"
   ]
  },
  {
   "cell_type": "code",
   "execution_count": null,
   "id": "c49c8ab7",
   "metadata": {},
   "outputs": [],
   "source": [
    "# List creation\n",
    "numbers = [10, 5, 8, 15, 7]\n",
    "# List operations\n",
    "sum_of_numbers = sum(numbers)\n",
    "average_of_numbers = sum_of_numbers / len(numbers)\n",
    "sorted_numbers = sorted(numbers)\n",
    "print(\"Sum of Numbers:\", sum_of_numbers)\n",
    "print(\"Average of Numbers:\", average_of_numbers)\n",
    "print(\"Sorted Numbers:\", sorted_numbers)\n"
   ]
  },
  {
   "cell_type": "code",
   "execution_count": null,
   "id": "c07c265f",
   "metadata": {},
   "outputs": [],
   "source": [
    "# Looping through the list\n",
    "for num in numbers:\n",
    "    print(\"Current Number:\", num)\n",
    "# While loop example\n",
    "i = 0\n",
    "while i < len(numbers):\n",
    "    print(\"Current Number (while loop):\", numbers[i])\n",
    "    i += 1\n"
   ]
  },
  {
   "cell_type": "code",
   "execution_count": null,
   "id": "2a16e549",
   "metadata": {},
   "outputs": [],
   "source": [
    "pip install pandas"
   ]
  },
  {
   "cell_type": "code",
   "execution_count": null,
   "id": "216e522b",
   "metadata": {},
   "outputs": [],
   "source": [
    "import pandas as pd\n",
    "# Creating a DataFrame\n",
    "data = {'Name': ['Alice', 'Bob', 'Charlie'],\n",
    "'Age': [25, 30, 22],\n",
    "'City': ['New York', 'San Francisco', 'Los Angeles']}\n",
    "df = pd.DataFrame(data)\n",
    "print(df)"
   ]
  },
  {
   "cell_type": "code",
   "execution_count": null,
   "id": "b030593d",
   "metadata": {},
   "outputs": [],
   "source": [
    "# Accessing columns\n",
    "names = df['Name']\n",
    "ages = df['Age']\n",
    "# Adding a new column\n",
    "df['Gender'] = ['Female', 'Male', 'Male']\n",
    "print(\"Names:\", names)\n",
    "print(\"Ages:\", ages)\n",
    "print(\"Modified DataFrame:\")\n",
    "print(df)"
   ]
  },
  {
   "cell_type": "code",
   "execution_count": null,
   "id": "87d3fe82",
   "metadata": {},
   "outputs": [],
   "source": [
    "# Creating a text file with sample data\n",
    "with open('data.txt', 'w') as file:\n",
    "    file.write(\"This is sample data.\\nLine 2: More data.\")"
   ]
  },
  {
   "cell_type": "code",
   "execution_count": null,
   "id": "0a244076",
   "metadata": {},
   "outputs": [],
   "source": [
    "# Reading and printing contents of the file\n",
    "with open('data.txt', 'r') as file:\n",
    "    file_contents = file.read()\n",
    "print(\"File Contents:\")\n",
    "print(file_contents)"
   ]
  },
  {
   "cell_type": "code",
   "execution_count": null,
   "id": "a98facfa",
   "metadata": {},
   "outputs": [],
   "source": [
    "# Reading CSV file into DataFrame\n",
    "df_csv = pd.read_csv(r'C:\\Users\\ICT-LAPTOP\\Downloads\\sample_dataset.csv')"
   ]
  },
  {
   "cell_type": "code",
   "execution_count": null,
   "id": "aa0afb80",
   "metadata": {},
   "outputs": [],
   "source": [
    "# Displaying DataFrame head, tail, and descriptive statistics\n",
    "print(\"DataFrame Head:\")\n",
    "print(df_csv.head())\n",
    "print(\"DataFrame Tail:\")\n",
    "print(df_csv.tail())\n",
    "print(\"DataFrame Descriptive Statistics:\")\n",
    "print(df_csv.describe())"
   ]
  },
  {
   "cell_type": "code",
   "execution_count": null,
   "id": "aa05479e",
   "metadata": {},
   "outputs": [],
   "source": [
    "pip install matplotlib"
   ]
  },
  {
   "cell_type": "code",
   "execution_count": null,
   "id": "32a2c66d",
   "metadata": {},
   "outputs": [],
   "source": [
    "import matplotlib.pyplot as plt\n",
    "# Plotting a simple graph\n",
    "x = [1, 2, 3, 4, 5]\n",
    "y = [10, 5, 8, 15, 7]\n",
    "plt.plot(x, y)\n",
    "plt.xlabel('X-axis')\n",
    "plt.ylabel('Y-axis')\n",
    "plt.title('Simple Plot')\n",
    "plt.show()"
   ]
  },
  {
   "cell_type": "code",
   "execution_count": null,
   "id": "92cdd281",
   "metadata": {},
   "outputs": [],
   "source": []
  },
  {
   "cell_type": "code",
   "execution_count": null,
   "id": "9707c203",
   "metadata": {},
   "outputs": [],
   "source": []
  }
 ],
 "metadata": {
  "language_info": {
   "name": "python"
  }
 },
 "nbformat": 4,
 "nbformat_minor": 5
}
